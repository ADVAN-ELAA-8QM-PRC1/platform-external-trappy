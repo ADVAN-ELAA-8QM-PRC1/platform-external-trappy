{
 "metadata": {
  "kernelspec": {
   "display_name": "Python 2",
   "language": "python",
   "name": "python2"
  },
  "language_info": {
   "codemirror_mode": {
    "name": "ipython",
    "version": 2
   },
   "file_extension": ".py",
   "mimetype": "text/x-python",
   "name": "python",
   "nbconvert_exporter": "python",
   "pygments_lexer": "ipython2",
   "version": "2.7.6"
  },
  "name": "",
  "signature": "sha256:e40bce55472f98cc295e200890043adf748f8755c1348a2528d13e228884a104"
 },
 "nbformat": 3,
 "nbformat_minor": 0,
 "worksheets": [
  {
   "cells": [
    {
     "cell_type": "heading",
     "level": 1,
     "metadata": {},
     "source": [
      "TRAPpy: Interactive Plotting"
     ]
    },
    {
     "cell_type": "heading",
     "level": 3,
     "metadata": {},
     "source": [
      "Re Run the cells to generate the graphs"
     ]
    },
    {
     "cell_type": "code",
     "collapsed": false,
     "input": [
      "%pylab inline\n",
      "import sys,os\n",
      "sys.path.append(\"..\")\n",
      "import tempfile\n",
      "import shutil\n",
      "import trappy\n",
      "trace_thermal = \"./trace.txt\"\n",
      "trace_sched = \"../tests/raw_trace.dat\"\n",
      "TEMP_BASE = \"/tmp\""
     ],
     "language": "python",
     "metadata": {},
     "outputs": [
      {
       "output_type": "stream",
       "stream": "stdout",
       "text": [
        "Populating the interactive namespace from numpy and matplotlib\n"
       ]
      }
     ],
     "prompt_number": 1
    },
    {
     "cell_type": "code",
     "collapsed": true,
     "input": [
      "def setup_thermal():\n",
      "    tDir = tempfile.mkdtemp(dir=\"/tmp\", prefix=\"trappy_doc\", suffix = \".tempDir\")\n",
      "    shutil.copyfile(trace_thermal, os.path.join(tDir, \"trace.txt\"))\n",
      "    return tDir\n",
      "\n",
      "def setup_sched():\n",
      "    tDir = tempfile.mkdtemp(dir=\"/tmp\", prefix=\"trappy_doc\", suffix = \".tempDir\")\n",
      "    shutil.copyfile(trace_sched, os.path.join(tDir, \"trace.dat\"))\n",
      "    return tDir"
     ],
     "language": "python",
     "metadata": {},
     "outputs": [],
     "prompt_number": 2
    },
    {
     "cell_type": "code",
     "collapsed": true,
     "input": [
      "temp_thermal_location = setup_thermal()\n",
      "trace1 = trappy.FTrace(temp_thermal_location)\n",
      "trace2 = trappy.FTrace(temp_thermal_location)\n",
      "trace2.thermal.data_frame[\"temp\"] = trace1.thermal.data_frame[\"temp\"] * 2\n",
      "trace2.cpu_out_power.data_frame[\"power\"] = trace1.cpu_out_power.data_frame[\"power\"] * 2"
     ],
     "language": "python",
     "metadata": {},
     "outputs": [],
     "prompt_number": 3
    },
    {
     "cell_type": "heading",
     "level": 1,
     "metadata": {},
     "source": [
      "Interactive Line Plotting"
     ]
    },
    {
     "cell_type": "markdown",
     "metadata": {},
     "source": [
      "Interactive Line Plots Supports the same API as the LinePlot but provide an interative plot that can be zoomed by clicking and dragging on the desired area. Double clicking resets the zoom."
     ]
    },
    {
     "cell_type": "code",
     "collapsed": false,
     "input": [
      "    map_label = {\n",
      "            \"00000000,00000006\" : \"A57\",\n",
      "            \"00000000,00000039\" : \"A53\",\n",
      "    }\n",
      "\n",
      "    l = trappy.ILinePlot(\n",
      "            trace1,                                          # TRAPpy FTrace Object\n",
      "            trappy.cpu_power.CpuInPower,                     # TRAPpy Event (maps to a unique word in the Trace)\n",
      "            column=[                                         # Column(s)\n",
      "                \"dynamic_power\",\n",
      "                \"load1\"],\n",
      "            \n",
      "            filters={                                        # Filter the data  \n",
      "                \"cdev_state\": [\n",
      "                    1,\n",
      "                    0]},\n",
      "            pivot=\"cpus\",                                    # One plot for each pivot will be created\n",
      "            map_label=map_label,                             # Optionally, provide an alternative label for pivots\n",
      "            per_line=1)                                      # Number of graphs per line\n",
      "    l.view()"
     ],
     "language": "python",
     "metadata": {},
     "outputs": [],
     "prompt_number": null
    },
    {
     "cell_type": "markdown",
     "metadata": {},
     "source": [
      "You can also change the drawstyle to \"steps-post\" for step plots. These are suited if the data is discrete \n",
      "and linear interploation is not required between two data points"
     ]
    },
    {
     "cell_type": "code",
     "collapsed": false,
     "input": [
      "        l = trappy.ILinePlot(\n",
      "            trace1,                                          # TRAPpy FTrace Object\n",
      "            trappy.cpu_power.CpuInPower,                     # TRAPpy Event (maps to a unique word in the Trace)\n",
      "            column=[                                         # Column(s)\n",
      "                \"dynamic_power\",\n",
      "                \"load1\"],\n",
      "            \n",
      "            filters={                                        # Filter the data  \n",
      "                \"cdev_state\": [\n",
      "                    1,\n",
      "                    0]},\n",
      "            pivot=\"cpus\",                                    # One plot for each pivot will be created\n",
      "        \n",
      "            per_line=1,                                      # Number of graphs per line\n",
      "            drawstyle=\"steps-post\")                                     \n",
      "        l.view()"
     ],
     "language": "python",
     "metadata": {},
     "outputs": [],
     "prompt_number": null
    },
    {
     "cell_type": "heading",
     "level": 1,
     "metadata": {},
     "source": [
      "EventPlot"
     ]
    },
    {
     "cell_type": "markdown",
     "metadata": {},
     "source": [
      "TRAPpy's  Interactive Plotter features an Interactive Event TimeLine Plot. It accepts an input data of the type\n",
      "<pre>\n",
      "<code>\n",
      "                   { \"A\" : [\n",
      "                                    [event_start, event_end, lane],\n",
      "                                    .\n",
      "                                    .\n",
      "                                    [event_start, event_end, lane],\n",
      "                                 ],\n",
      "                     .\n",
      "                     .\n",
      "                     .\n",
      "\n",
      "                     \"B\" : [\n",
      "                                    [event_start, event_end, lane],\n",
      "                                    .\n",
      "                                    .\n",
      "                                    [event_start, event_end, lane],\n",
      "                    .\n",
      "                    .\n",
      "                    .\n",
      "                   }\n",
      "                                \n",
      "</code>\n",
      "</pre>\n",
      "\n",
      "Hovering on the rectangles gives the name of the process element and scrolling on the Plot Area and the window in the summary controls the zoom. One can also click and drag for panning a zoomed graph.\n",
      "\n",
      "For Example:"
     ]
    },
    {
     "cell_type": "code",
     "collapsed": false,
     "input": [
      "A = [\n",
      "    \n",
      "        [0, 3, 0],\n",
      "        [4, 5, 2],\n",
      "]\n",
      "\n",
      "B = [\n",
      "        [0, 2, 1],\n",
      "        [2, 3, 3],\n",
      "        [3, 4, 0],\n",
      "]\n",
      "\n",
      "C =  [\n",
      "        [0, 2, 3],\n",
      "        [2, 3, 2],\n",
      "        [3, 4, 1],\n",
      "]\n",
      "\n",
      "EVENTS = {}\n",
      "EVENTS[\"A\"] = A\n",
      "EVENTS[\"B\"] = B\n",
      "EVENTS[\"C\"] = C\n",
      "\n",
      "trappy.EventPlot(EVENTS,\n",
      "                 keys=EVENTS.keys,                     # Name of the Process Element\n",
      "                 lane_prefix=\"LANE: \",                 # Name of Each TimeLine\n",
      "                 num_lanes=4,                          # Number of Timelines\n",
      "                 domain=[0,5]                          # Time Domain\n",
      "                ).view()"
     ],
     "language": "python",
     "metadata": {},
     "outputs": [],
     "prompt_number": null
    },
    {
     "cell_type": "markdown",
     "metadata": {},
     "source": [
      "Lane names can also be specified as strings (or hashable objects that have an str representation) as follows"
     ]
    },
    {
     "cell_type": "code",
     "collapsed": false,
     "input": [
      "A = [\n",
      "    \n",
      "        [0, 3, \"zero\"],\n",
      "        [4, 5, \"two\"],\n",
      "]\n",
      "\n",
      "B = [\n",
      "        [0, 2, 1],\n",
      "        [2, 3, \"three\"],\n",
      "        [3, 4, \"zero\"],\n",
      "]\n",
      "\n",
      "C =  [\n",
      "        [0, 2, \"three\"],\n",
      "        [2, 3, \"two\"],\n",
      "        [3, 4, 1],\n",
      "]\n",
      "\n",
      "EVENTS = {}\n",
      "EVENTS[\"A\"] = A\n",
      "EVENTS[\"B\"] = B\n",
      "EVENTS[\"C\"] = C\n",
      "\n",
      "trappy.EventPlot(EVENTS,\n",
      "                 keys=EVENTS.keys,                     # Name of the Process Element\n",
      "                 lanes=[\"zero\", 1, \"two\", \"three\"],\n",
      "                 domain=[0,5]                          # Time Domain\n",
      "                ).view()"
     ],
     "language": "python",
     "metadata": {},
     "outputs": [],
     "prompt_number": null
    },
    {
     "cell_type": "heading",
     "level": 1,
     "metadata": {},
     "source": [
      "TracePlot"
     ]
    },
    {
     "cell_type": "markdown",
     "metadata": {},
     "source": [
      "A specification of the EventPlot creates a kernelshark like plot if the sched_switch event is enabled in the traces"
     ]
    },
    {
     "cell_type": "code",
     "collapsed": false,
     "input": [
      "f = setup_sched()\n",
      "trappy.plotter.plot_trace(f)"
     ],
     "language": "python",
     "metadata": {},
     "outputs": [],
     "prompt_number": null
    }
   ],
   "metadata": {}
  }
 ]
}